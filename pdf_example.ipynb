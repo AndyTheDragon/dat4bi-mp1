{
 "cells": [
  {
   "cell_type": "code",
   "execution_count": 5,
   "id": "2dc78619",
   "metadata": {},
   "outputs": [
    {
     "name": "stdout",
     "output_type": "stream",
     "text": [
      "Requirement already satisfied: tabula-py in c:\\users\\mkfal\\appdata\\roaming\\python\\python313\\site-packages (2.10.0)\n",
      "Requirement already satisfied: pandas>=0.25.3 in c:\\users\\mkfal\\appdata\\roaming\\python\\python313\\site-packages (from tabula-py) (2.3.2)\n",
      "Requirement already satisfied: numpy>1.24.4 in c:\\users\\mkfal\\appdata\\roaming\\python\\python313\\site-packages (from tabula-py) (2.2.6)\n",
      "Requirement already satisfied: distro in c:\\users\\mkfal\\appdata\\roaming\\python\\python313\\site-packages (from tabula-py) (1.9.0)\n",
      "Requirement already satisfied: python-dateutil>=2.8.2 in c:\\users\\mkfal\\appdata\\roaming\\python\\python313\\site-packages (from pandas>=0.25.3->tabula-py) (2.9.0.post0)\n",
      "Requirement already satisfied: pytz>=2020.1 in c:\\users\\mkfal\\appdata\\roaming\\python\\python313\\site-packages (from pandas>=0.25.3->tabula-py) (2025.2)\n",
      "Requirement already satisfied: tzdata>=2022.7 in c:\\users\\mkfal\\appdata\\roaming\\python\\python313\\site-packages (from pandas>=0.25.3->tabula-py) (2025.2)\n",
      "Requirement already satisfied: six>=1.5 in c:\\users\\mkfal\\appdata\\roaming\\python\\python313\\site-packages (from python-dateutil>=2.8.2->pandas>=0.25.3->tabula-py) (1.17.0)\n",
      "Note: you may need to restart the kernel to use updated packages.\n"
     ]
    }
   ],
   "source": [
    "pip install tabula-py"
   ]
  },
  {
   "cell_type": "code",
   "execution_count": 21,
   "id": "473419e6",
   "metadata": {},
   "outputs": [
    {
     "name": "stderr",
     "output_type": "stream",
     "text": [
      "'pages' argument isn't specified.Will extract only from page 1 by default.\n"
     ]
    }
   ],
   "source": [
    "from tabula import read_pdf\n",
    "\n",
    "file = r\"C:\\Users\\mkfal\\Documents\\GitHub\\BI\\MP1\\dat4bi-mp1\\data\\usage-history.pdf\"\n",
    "\n",
    "df_temp = read_pdf(file, stream=True)"
   ]
  },
  {
   "cell_type": "code",
   "execution_count": 22,
   "id": "b88d6832",
   "metadata": {},
   "outputs": [
    {
     "name": "stdout",
     "output_type": "stream",
     "text": [
      "[        Opkald Unnamed: 0 Unnamed: 1  Unnamed: 2 Unnamed: 3\n",
      "0         Dato  Tidspunkt   Varighed    Modtager       Pris\n",
      "1   22/07/2025      15:56   00:00:16  4526485573          0\n",
      "2   15/07/2025      16:53   00:00:23  4526485573          0\n",
      "3   15/07/2025      11:07   00:01:08  4526485573          0\n",
      "4   11/07/2025      12:55   00:02:56  4550293470          0\n",
      "5   11/07/2025      12:54   00:00:04  4526485573          0\n",
      "6   11/07/2025      12:53   00:00:04  4526485573          0\n",
      "7   09/07/2025      10:24   00:02:33  4591889449          0\n",
      "8   09/06/2025      11:14   00:00:27  4526485573          0\n",
      "9   09/06/2025      10:47   00:02:28  4531165156          0\n",
      "10  05/06/2025      16:20   00:00:53  4526485573          0\n",
      "11  03/06/2025      13:51   00:00:21  4531165156          0\n",
      "12  02/06/2025      16:58   00:00:52  4526485573          0\n",
      "13  02/06/2025      16:24   00:00:22  4591841048          0\n",
      "14  02/06/2025      15:54   00:00:04  4591841048          0\n",
      "15  02/06/2025      15:18   00:00:13  4591841048          0\n",
      "16  02/06/2025      15:01   00:00:28  4591841048          0\n",
      "17  02/06/2025      13:32   00:00:23  4591841048          0\n",
      "18  02/06/2025      13:31   00:00:08  4591841048          0\n",
      "19  02/06/2025      13:16   00:00:16  4591889449          0\n",
      "20  02/06/2025      13:02   00:03:13  4591889449          0\n",
      "21  02/06/2025      08:58   00:02:27  4591889449          0\n",
      "22  02/06/2025      08:47   00:00:03  4531644550          0\n",
      "23  01/06/2025      17:59   00:00:32  4526485573          0\n",
      "24  28/05/2025      11:58   00:01:43  4550293470          0\n",
      "25  27/05/2025      20:54   00:01:19  4531165156          0\n",
      "26  27/05/2025      17:09   00:00:41  4591846664          0\n",
      "27  27/05/2025      11:56   00:00:41  4526485573          0\n",
      "28  26/05/2025      15:37   00:00:21  4591841048          0\n",
      "29  26/05/2025      15:00   00:00:35  4531644550          0\n",
      "30  26/05/2025      15:00   00:00:03  4531644550          0\n",
      "31  26/05/2025      14:59   00:00:02  4531644550          0\n",
      "32  26/05/2025      14:58   00:00:03  4531644550          0\n",
      "33  24/05/2025      12:26   00:00:28  4526485573          0\n",
      "34  24/05/2025      12:25   00:00:23  4531165156          0\n",
      "35  23/05/2025      13:43   00:00:24  4591841048          0]\n"
     ]
    }
   ],
   "source": [
    "print(df_temp)"
   ]
  },
  {
   "cell_type": "code",
   "execution_count": null,
   "id": "59f05c66",
   "metadata": {},
   "outputs": [],
   "source": []
  }
 ],
 "metadata": {
  "kernelspec": {
   "display_name": "base",
   "language": "python",
   "name": "python3"
  },
  "language_info": {
   "codemirror_mode": {
    "name": "ipython",
    "version": 3
   },
   "file_extension": ".py",
   "mimetype": "text/x-python",
   "name": "python",
   "nbconvert_exporter": "python",
   "pygments_lexer": "ipython3",
   "version": "3.13.5"
  }
 },
 "nbformat": 4,
 "nbformat_minor": 5
}
